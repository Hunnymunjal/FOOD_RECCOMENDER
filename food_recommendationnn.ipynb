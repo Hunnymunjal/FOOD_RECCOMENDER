{
 "cells": [
  {
   "cell_type": "markdown",
   "metadata": {
    "colab_type": "text",
    "id": "view-in-github"
   },
   "source": [
    "<a href=\"https://colab.research.google.com/github/Bhuvanjeet/Food-Recommendation-Engine/blob/master/food_recommendation.ipynb\" target=\"_parent\"><img src=\"https://colab.research.google.com/assets/colab-badge.svg\" alt=\"Open In Colab\"/></a>"
   ]
  },
  {
   "cell_type": "markdown",
   "metadata": {
    "colab_type": "text",
    "id": "HfVZ-b754ahZ"
   },
   "source": [
    "**Food Recommendation Engine**\n",
    "\n",
    "To recommend food items based on similarity in 'brand' and 'ingredients'.\n",
    "\n",
    "\n",
    "**Project Overview:**\n",
    "\n",
    "**1-Exploratory Data Analysis - EDA**\n",
    "\n",
    "**2-Vectorization**\n",
    "\n",
    "**3-Cosine Similarity**\n",
    "\n",
    "**4-Input and Output**"
   ]
  },
  {
   "cell_type": "code",
   "execution_count": 0,
   "metadata": {
    "colab": {},
    "colab_type": "code",
    "id": "0CZ_AA6t4aha"
   },
   "outputs": [],
   "source": [
    "import numpy as np\n",
    "import pandas as pd\n",
    "import seaborn as sns\n",
    "import matplotlib.pyplot as plt\n",
    "%matplotlib inline"
   ]
  },
  {
   "cell_type": "code",
   "execution_count": 2,
   "metadata": {
    "colab": {
     "base_uri": "https://localhost:8080/",
     "height": 34
    },
    "colab_type": "code",
    "id": "pVP0L2tP4n8I",
    "outputId": "0af84c06-4259-4784-c2d4-1c3fbea0b675"
   },
   "outputs": [
    {
     "name": "stdout",
     "output_type": "stream",
     "text": [
      "Found GPU at: /device:GPU:0\n"
     ]
    }
   ],
   "source": [
    "%tensorflow_version 2.x\n",
    "import tensorflow as tf\n",
    "device_name = tf.test.gpu_device_name()\n",
    "if device_name != '/device:GPU:0':\n",
    "  raise SystemError('GPU device not found')\n",
    "print('Found GPU at: {}'.format(device_name))"
   ]
  },
  {
   "cell_type": "code",
   "execution_count": 0,
   "metadata": {
    "colab": {},
    "colab_type": "code",
    "id": "33MQwSP64o4Z"
   },
   "outputs": [],
   "source": [
    "from pydrive.auth import GoogleAuth\n",
    "from pydrive.drive import GoogleDrive\n",
    "from google.colab import auth\n",
    "from oauth2client.client import GoogleCredentials\n",
    "# Authenticate and create the PyDrive client.\n",
    "auth.authenticate_user()\n",
    "gauth = GoogleAuth()\n",
    "gauth.credentials = GoogleCredentials.get_application_default()\n",
    "drive = GoogleDrive(gauth)"
   ]
  },
  {
   "cell_type": "code",
   "execution_count": 0,
   "metadata": {
    "colab": {},
    "colab_type": "code",
    "id": "mA6aGGXO4rDd"
   },
   "outputs": [],
   "source": [
    "link='https://drive.google.com/open?id=1eEM2edL8PyQWuz_LPOKvveRP9nKzGG8M'"
   ]
  },
  {
   "cell_type": "code",
   "execution_count": 7,
   "metadata": {
    "colab": {
     "base_uri": "https://localhost:8080/",
     "height": 34
    },
    "colab_type": "code",
    "id": "HIyqruZI4s98",
    "outputId": "fd945a75-8a51-4f09-c045-2b8567cb3cd0"
   },
   "outputs": [
    {
     "name": "stdout",
     "output_type": "stream",
     "text": [
      "1eEM2edL8PyQWuz_LPOKvveRP9nKzGG8M\n"
     ]
    }
   ],
   "source": [
    "fluff, id = link.split('=')\n",
    "print (id) # Verify that you have everything after '='"
   ]
  },
  {
   "cell_type": "code",
   "execution_count": 0,
   "metadata": {
    "colab": {},
    "colab_type": "code",
    "id": "aE4nnvz74u-F"
   },
   "outputs": [],
   "source": [
    "downloaded = drive.CreateFile({'id':id}) \n",
    "downloaded.GetContentFile('food_items.txt')  "
   ]
  },
  {
   "cell_type": "code",
   "execution_count": 0,
   "metadata": {
    "colab": {},
    "colab_type": "code",
    "id": "nWyUmBMr4ahd"
   },
   "outputs": [],
   "source": [
    "df=pd.read_csv('food_items.txt')"
   ]
  },
  {
   "cell_type": "code",
   "execution_count": 11,
   "metadata": {
    "colab": {
     "base_uri": "https://localhost:8080/",
     "height": 434
    },
    "colab_type": "code",
    "id": "w6yHrLB94ahg",
    "outputId": "09b568ef-095e-41ed-8cd5-6de8effea810"
   },
   "outputs": [
    {
     "data": {
      "text/html": [
       "<div>\n",
       "<style scoped>\n",
       "    .dataframe tbody tr th:only-of-type {\n",
       "        vertical-align: middle;\n",
       "    }\n",
       "\n",
       "    .dataframe tbody tr th {\n",
       "        vertical-align: top;\n",
       "    }\n",
       "\n",
       "    .dataframe thead th {\n",
       "        text-align: right;\n",
       "    }\n",
       "</style>\n",
       "<table border=\"1\" class=\"dataframe\">\n",
       "  <thead>\n",
       "    <tr style=\"text-align: right;\">\n",
       "      <th></th>\n",
       "      <th>index</th>\n",
       "      <th>brand</th>\n",
       "      <th>categories</th>\n",
       "      <th>ingredients</th>\n",
       "      <th>manufacturer</th>\n",
       "      <th>title</th>\n",
       "      <th>Unnamed: 6</th>\n",
       "      <th>Unnamed: 7</th>\n",
       "      <th>Unnamed: 8</th>\n",
       "      <th>Unnamed: 9</th>\n",
       "      <th>Unnamed: 10</th>\n",
       "      <th>Unnamed: 11</th>\n",
       "      <th>Unnamed: 12</th>\n",
       "      <th>Unnamed: 13</th>\n",
       "      <th>Unnamed: 14</th>\n",
       "      <th>Unnamed: 15</th>\n",
       "      <th>Unnamed: 16</th>\n",
       "      <th>Unnamed: 17</th>\n",
       "      <th>Unnamed: 18</th>\n",
       "      <th>Unnamed: 19</th>\n",
       "      <th>Unnamed: 20</th>\n",
       "      <th>Unnamed: 21</th>\n",
       "      <th>Unnamed: 22</th>\n",
       "      <th>Unnamed: 23</th>\n",
       "      <th>Unnamed: 24</th>\n",
       "      <th>Unnamed: 25</th>\n",
       "      <th>Unnamed: 26</th>\n",
       "      <th>Unnamed: 27</th>\n",
       "      <th>Unnamed: 28</th>\n",
       "      <th>Unnamed: 29</th>\n",
       "    </tr>\n",
       "  </thead>\n",
       "  <tbody>\n",
       "    <tr>\n",
       "      <th>0</th>\n",
       "      <td>0</td>\n",
       "      <td>Simon Fischer</td>\n",
       "      <td>Grocery &amp; Gourmet Food,Food,Grocery</td>\n",
       "      <td>Dried Prunes,Water,Corn Syrup,Sugar,Pectin.</td>\n",
       "      <td>Sokol And Company</td>\n",
       "      <td>Simon Fischer Fruit Bttr Prune Lekvar</td>\n",
       "      <td>NaN</td>\n",
       "      <td>NaN</td>\n",
       "      <td>NaN</td>\n",
       "      <td>NaN</td>\n",
       "      <td>NaN</td>\n",
       "      <td>NaN</td>\n",
       "      <td>NaN</td>\n",
       "      <td>NaN</td>\n",
       "      <td>NaN</td>\n",
       "      <td>NaN</td>\n",
       "      <td>NaN</td>\n",
       "      <td>NaN</td>\n",
       "      <td>NaN</td>\n",
       "      <td>NaN</td>\n",
       "      <td>NaN</td>\n",
       "      <td>NaN</td>\n",
       "      <td>NaN</td>\n",
       "      <td>NaN</td>\n",
       "      <td>NaN</td>\n",
       "      <td>NaN</td>\n",
       "      <td>NaN</td>\n",
       "      <td>NaN</td>\n",
       "      <td>NaN</td>\n",
       "      <td>NaN</td>\n",
       "    </tr>\n",
       "    <tr>\n",
       "      <th>1</th>\n",
       "      <td>1</td>\n",
       "      <td>McCormick</td>\n",
       "      <td>Grocery &amp; Gourmet Food,Food,Grocery</td>\n",
       "      <td>Salt,Sugar,Molasses (Refinery Syrup, Molasses,...</td>\n",
       "      <td>McCormick &amp; Co, Inc</td>\n",
       "      <td>McCORMICK GRILL MATES MOLASSES BACON SEASONING...</td>\n",
       "      <td>NaN</td>\n",
       "      <td>NaN</td>\n",
       "      <td>NaN</td>\n",
       "      <td>NaN</td>\n",
       "      <td>NaN</td>\n",
       "      <td>NaN</td>\n",
       "      <td>NaN</td>\n",
       "      <td>NaN</td>\n",
       "      <td>NaN</td>\n",
       "      <td>NaN</td>\n",
       "      <td>NaN</td>\n",
       "      <td>NaN</td>\n",
       "      <td>NaN</td>\n",
       "      <td>NaN</td>\n",
       "      <td>NaN</td>\n",
       "      <td>NaN</td>\n",
       "      <td>NaN</td>\n",
       "      <td>NaN</td>\n",
       "      <td>NaN</td>\n",
       "      <td>NaN</td>\n",
       "      <td>NaN</td>\n",
       "      <td>NaN</td>\n",
       "      <td>NaN</td>\n",
       "      <td>NaN</td>\n",
       "    </tr>\n",
       "    <tr>\n",
       "      <th>2</th>\n",
       "      <td>2</td>\n",
       "      <td>Jolly Time</td>\n",
       "      <td>Grocery &amp; Gourmet Food,Grocery</td>\n",
       "      <td>Salt, Yellow 5 Lake, Tricalcium Phosphate And ...</td>\n",
       "      <td>Reese's</td>\n",
       "      <td>Jolly Time Popcorn</td>\n",
       "      <td>NaN</td>\n",
       "      <td>NaN</td>\n",
       "      <td>NaN</td>\n",
       "      <td>NaN</td>\n",
       "      <td>NaN</td>\n",
       "      <td>NaN</td>\n",
       "      <td>NaN</td>\n",
       "      <td>NaN</td>\n",
       "      <td>NaN</td>\n",
       "      <td>NaN</td>\n",
       "      <td>NaN</td>\n",
       "      <td>NaN</td>\n",
       "      <td>NaN</td>\n",
       "      <td>NaN</td>\n",
       "      <td>NaN</td>\n",
       "      <td>NaN</td>\n",
       "      <td>NaN</td>\n",
       "      <td>NaN</td>\n",
       "      <td>NaN</td>\n",
       "      <td>NaN</td>\n",
       "      <td>NaN</td>\n",
       "      <td>NaN</td>\n",
       "      <td>NaN</td>\n",
       "      <td>NaN</td>\n",
       "    </tr>\n",
       "    <tr>\n",
       "      <th>3</th>\n",
       "      <td>3</td>\n",
       "      <td>Ziyad</td>\n",
       "      <td>Grocery &amp; Gourmet Food,grocery</td>\n",
       "      <td>Mechanically hulled seasame seeds.Allergy Info...</td>\n",
       "      <td>Ziyad</td>\n",
       "      <td>Ziyad Tahini Sesame Sauce</td>\n",
       "      <td>NaN</td>\n",
       "      <td>NaN</td>\n",
       "      <td>NaN</td>\n",
       "      <td>NaN</td>\n",
       "      <td>NaN</td>\n",
       "      <td>NaN</td>\n",
       "      <td>NaN</td>\n",
       "      <td>NaN</td>\n",
       "      <td>NaN</td>\n",
       "      <td>NaN</td>\n",
       "      <td>NaN</td>\n",
       "      <td>NaN</td>\n",
       "      <td>NaN</td>\n",
       "      <td>NaN</td>\n",
       "      <td>NaN</td>\n",
       "      <td>NaN</td>\n",
       "      <td>NaN</td>\n",
       "      <td>NaN</td>\n",
       "      <td>NaN</td>\n",
       "      <td>NaN</td>\n",
       "      <td>NaN</td>\n",
       "      <td>NaN</td>\n",
       "      <td>NaN</td>\n",
       "      <td>NaN</td>\n",
       "    </tr>\n",
       "    <tr>\n",
       "      <th>4</th>\n",
       "      <td>4</td>\n",
       "      <td>Fla-Vor-Ice</td>\n",
       "      <td>Grocery &amp; Gourmet Food,grocery</td>\n",
       "      <td>FALSE</td>\n",
       "      <td>Fla-Vor-Ice</td>\n",
       "      <td>Fla-Vor-Ice Plus Giant Pops</td>\n",
       "      <td>NaN</td>\n",
       "      <td>NaN</td>\n",
       "      <td>NaN</td>\n",
       "      <td>NaN</td>\n",
       "      <td>NaN</td>\n",
       "      <td>NaN</td>\n",
       "      <td>NaN</td>\n",
       "      <td>NaN</td>\n",
       "      <td>NaN</td>\n",
       "      <td>NaN</td>\n",
       "      <td>NaN</td>\n",
       "      <td>NaN</td>\n",
       "      <td>NaN</td>\n",
       "      <td>NaN</td>\n",
       "      <td>NaN</td>\n",
       "      <td>NaN</td>\n",
       "      <td>NaN</td>\n",
       "      <td>NaN</td>\n",
       "      <td>NaN</td>\n",
       "      <td>NaN</td>\n",
       "      <td>NaN</td>\n",
       "      <td>NaN</td>\n",
       "      <td>NaN</td>\n",
       "      <td>NaN</td>\n",
       "    </tr>\n",
       "  </tbody>\n",
       "</table>\n",
       "</div>"
      ],
      "text/plain": [
       "   index          brand  ... Unnamed: 28 Unnamed: 29\n",
       "0      0  Simon Fischer  ...         NaN         NaN\n",
       "1      1      McCormick  ...         NaN         NaN\n",
       "2      2     Jolly Time  ...         NaN         NaN\n",
       "3      3          Ziyad  ...         NaN         NaN\n",
       "4      4    Fla-Vor-Ice  ...         NaN         NaN\n",
       "\n",
       "[5 rows x 30 columns]"
      ]
     },
     "execution_count": 11,
     "metadata": {
      "tags": []
     },
     "output_type": "execute_result"
    }
   ],
   "source": [
    "df.head()"
   ]
  },
  {
   "cell_type": "code",
   "execution_count": 0,
   "metadata": {
    "colab": {},
    "colab_type": "code",
    "id": "ZCLnoapH4ahm"
   },
   "outputs": [],
   "source": [
    "df.drop('index',axis=1,inplace=True)"
   ]
  },
  {
   "cell_type": "code",
   "execution_count": 13,
   "metadata": {
    "colab": {
     "base_uri": "https://localhost:8080/",
     "height": 434
    },
    "colab_type": "code",
    "id": "L-jSo2uK4aho",
    "outputId": "fd4ed5ca-e364-4f9f-9e10-73a97702b776"
   },
   "outputs": [
    {
     "data": {
      "text/html": [
       "<div>\n",
       "<style scoped>\n",
       "    .dataframe tbody tr th:only-of-type {\n",
       "        vertical-align: middle;\n",
       "    }\n",
       "\n",
       "    .dataframe tbody tr th {\n",
       "        vertical-align: top;\n",
       "    }\n",
       "\n",
       "    .dataframe thead th {\n",
       "        text-align: right;\n",
       "    }\n",
       "</style>\n",
       "<table border=\"1\" class=\"dataframe\">\n",
       "  <thead>\n",
       "    <tr style=\"text-align: right;\">\n",
       "      <th></th>\n",
       "      <th>brand</th>\n",
       "      <th>categories</th>\n",
       "      <th>ingredients</th>\n",
       "      <th>manufacturer</th>\n",
       "      <th>title</th>\n",
       "      <th>Unnamed: 6</th>\n",
       "      <th>Unnamed: 7</th>\n",
       "      <th>Unnamed: 8</th>\n",
       "      <th>Unnamed: 9</th>\n",
       "      <th>Unnamed: 10</th>\n",
       "      <th>Unnamed: 11</th>\n",
       "      <th>Unnamed: 12</th>\n",
       "      <th>Unnamed: 13</th>\n",
       "      <th>Unnamed: 14</th>\n",
       "      <th>Unnamed: 15</th>\n",
       "      <th>Unnamed: 16</th>\n",
       "      <th>Unnamed: 17</th>\n",
       "      <th>Unnamed: 18</th>\n",
       "      <th>Unnamed: 19</th>\n",
       "      <th>Unnamed: 20</th>\n",
       "      <th>Unnamed: 21</th>\n",
       "      <th>Unnamed: 22</th>\n",
       "      <th>Unnamed: 23</th>\n",
       "      <th>Unnamed: 24</th>\n",
       "      <th>Unnamed: 25</th>\n",
       "      <th>Unnamed: 26</th>\n",
       "      <th>Unnamed: 27</th>\n",
       "      <th>Unnamed: 28</th>\n",
       "      <th>Unnamed: 29</th>\n",
       "    </tr>\n",
       "  </thead>\n",
       "  <tbody>\n",
       "    <tr>\n",
       "      <th>0</th>\n",
       "      <td>Simon Fischer</td>\n",
       "      <td>Grocery &amp; Gourmet Food,Food,Grocery</td>\n",
       "      <td>Dried Prunes,Water,Corn Syrup,Sugar,Pectin.</td>\n",
       "      <td>Sokol And Company</td>\n",
       "      <td>Simon Fischer Fruit Bttr Prune Lekvar</td>\n",
       "      <td>NaN</td>\n",
       "      <td>NaN</td>\n",
       "      <td>NaN</td>\n",
       "      <td>NaN</td>\n",
       "      <td>NaN</td>\n",
       "      <td>NaN</td>\n",
       "      <td>NaN</td>\n",
       "      <td>NaN</td>\n",
       "      <td>NaN</td>\n",
       "      <td>NaN</td>\n",
       "      <td>NaN</td>\n",
       "      <td>NaN</td>\n",
       "      <td>NaN</td>\n",
       "      <td>NaN</td>\n",
       "      <td>NaN</td>\n",
       "      <td>NaN</td>\n",
       "      <td>NaN</td>\n",
       "      <td>NaN</td>\n",
       "      <td>NaN</td>\n",
       "      <td>NaN</td>\n",
       "      <td>NaN</td>\n",
       "      <td>NaN</td>\n",
       "      <td>NaN</td>\n",
       "      <td>NaN</td>\n",
       "    </tr>\n",
       "    <tr>\n",
       "      <th>1</th>\n",
       "      <td>McCormick</td>\n",
       "      <td>Grocery &amp; Gourmet Food,Food,Grocery</td>\n",
       "      <td>Salt,Sugar,Molasses (Refinery Syrup, Molasses,...</td>\n",
       "      <td>McCormick &amp; Co, Inc</td>\n",
       "      <td>McCORMICK GRILL MATES MOLASSES BACON SEASONING...</td>\n",
       "      <td>NaN</td>\n",
       "      <td>NaN</td>\n",
       "      <td>NaN</td>\n",
       "      <td>NaN</td>\n",
       "      <td>NaN</td>\n",
       "      <td>NaN</td>\n",
       "      <td>NaN</td>\n",
       "      <td>NaN</td>\n",
       "      <td>NaN</td>\n",
       "      <td>NaN</td>\n",
       "      <td>NaN</td>\n",
       "      <td>NaN</td>\n",
       "      <td>NaN</td>\n",
       "      <td>NaN</td>\n",
       "      <td>NaN</td>\n",
       "      <td>NaN</td>\n",
       "      <td>NaN</td>\n",
       "      <td>NaN</td>\n",
       "      <td>NaN</td>\n",
       "      <td>NaN</td>\n",
       "      <td>NaN</td>\n",
       "      <td>NaN</td>\n",
       "      <td>NaN</td>\n",
       "      <td>NaN</td>\n",
       "    </tr>\n",
       "    <tr>\n",
       "      <th>2</th>\n",
       "      <td>Jolly Time</td>\n",
       "      <td>Grocery &amp; Gourmet Food,Grocery</td>\n",
       "      <td>Salt, Yellow 5 Lake, Tricalcium Phosphate And ...</td>\n",
       "      <td>Reese's</td>\n",
       "      <td>Jolly Time Popcorn</td>\n",
       "      <td>NaN</td>\n",
       "      <td>NaN</td>\n",
       "      <td>NaN</td>\n",
       "      <td>NaN</td>\n",
       "      <td>NaN</td>\n",
       "      <td>NaN</td>\n",
       "      <td>NaN</td>\n",
       "      <td>NaN</td>\n",
       "      <td>NaN</td>\n",
       "      <td>NaN</td>\n",
       "      <td>NaN</td>\n",
       "      <td>NaN</td>\n",
       "      <td>NaN</td>\n",
       "      <td>NaN</td>\n",
       "      <td>NaN</td>\n",
       "      <td>NaN</td>\n",
       "      <td>NaN</td>\n",
       "      <td>NaN</td>\n",
       "      <td>NaN</td>\n",
       "      <td>NaN</td>\n",
       "      <td>NaN</td>\n",
       "      <td>NaN</td>\n",
       "      <td>NaN</td>\n",
       "      <td>NaN</td>\n",
       "    </tr>\n",
       "    <tr>\n",
       "      <th>3</th>\n",
       "      <td>Ziyad</td>\n",
       "      <td>Grocery &amp; Gourmet Food,grocery</td>\n",
       "      <td>Mechanically hulled seasame seeds.Allergy Info...</td>\n",
       "      <td>Ziyad</td>\n",
       "      <td>Ziyad Tahini Sesame Sauce</td>\n",
       "      <td>NaN</td>\n",
       "      <td>NaN</td>\n",
       "      <td>NaN</td>\n",
       "      <td>NaN</td>\n",
       "      <td>NaN</td>\n",
       "      <td>NaN</td>\n",
       "      <td>NaN</td>\n",
       "      <td>NaN</td>\n",
       "      <td>NaN</td>\n",
       "      <td>NaN</td>\n",
       "      <td>NaN</td>\n",
       "      <td>NaN</td>\n",
       "      <td>NaN</td>\n",
       "      <td>NaN</td>\n",
       "      <td>NaN</td>\n",
       "      <td>NaN</td>\n",
       "      <td>NaN</td>\n",
       "      <td>NaN</td>\n",
       "      <td>NaN</td>\n",
       "      <td>NaN</td>\n",
       "      <td>NaN</td>\n",
       "      <td>NaN</td>\n",
       "      <td>NaN</td>\n",
       "      <td>NaN</td>\n",
       "    </tr>\n",
       "    <tr>\n",
       "      <th>4</th>\n",
       "      <td>Fla-Vor-Ice</td>\n",
       "      <td>Grocery &amp; Gourmet Food,grocery</td>\n",
       "      <td>FALSE</td>\n",
       "      <td>Fla-Vor-Ice</td>\n",
       "      <td>Fla-Vor-Ice Plus Giant Pops</td>\n",
       "      <td>NaN</td>\n",
       "      <td>NaN</td>\n",
       "      <td>NaN</td>\n",
       "      <td>NaN</td>\n",
       "      <td>NaN</td>\n",
       "      <td>NaN</td>\n",
       "      <td>NaN</td>\n",
       "      <td>NaN</td>\n",
       "      <td>NaN</td>\n",
       "      <td>NaN</td>\n",
       "      <td>NaN</td>\n",
       "      <td>NaN</td>\n",
       "      <td>NaN</td>\n",
       "      <td>NaN</td>\n",
       "      <td>NaN</td>\n",
       "      <td>NaN</td>\n",
       "      <td>NaN</td>\n",
       "      <td>NaN</td>\n",
       "      <td>NaN</td>\n",
       "      <td>NaN</td>\n",
       "      <td>NaN</td>\n",
       "      <td>NaN</td>\n",
       "      <td>NaN</td>\n",
       "      <td>NaN</td>\n",
       "    </tr>\n",
       "  </tbody>\n",
       "</table>\n",
       "</div>"
      ],
      "text/plain": [
       "           brand                           categories  ... Unnamed: 28 Unnamed: 29\n",
       "0  Simon Fischer  Grocery & Gourmet Food,Food,Grocery  ...         NaN         NaN\n",
       "1      McCormick  Grocery & Gourmet Food,Food,Grocery  ...         NaN         NaN\n",
       "2     Jolly Time       Grocery & Gourmet Food,Grocery  ...         NaN         NaN\n",
       "3          Ziyad       Grocery & Gourmet Food,grocery  ...         NaN         NaN\n",
       "4    Fla-Vor-Ice       Grocery & Gourmet Food,grocery  ...         NaN         NaN\n",
       "\n",
       "[5 rows x 29 columns]"
      ]
     },
     "execution_count": 13,
     "metadata": {
      "tags": []
     },
     "output_type": "execute_result"
    }
   ],
   "source": [
    "df.head()"
   ]
  },
  {
   "cell_type": "code",
   "execution_count": 14,
   "metadata": {
    "colab": {
     "base_uri": "https://localhost:8080/",
     "height": 438
    },
    "colab_type": "code",
    "id": "TOXO7fzr4ahq",
    "outputId": "7babc815-9d39-42a5-d4a6-06e9eb9b4550"
   },
   "outputs": [
    {
     "data": {
      "text/html": [
       "<div>\n",
       "<style scoped>\n",
       "    .dataframe tbody tr th:only-of-type {\n",
       "        vertical-align: middle;\n",
       "    }\n",
       "\n",
       "    .dataframe tbody tr th {\n",
       "        vertical-align: top;\n",
       "    }\n",
       "\n",
       "    .dataframe thead th {\n",
       "        text-align: right;\n",
       "    }\n",
       "</style>\n",
       "<table border=\"1\" class=\"dataframe\">\n",
       "  <thead>\n",
       "    <tr style=\"text-align: right;\">\n",
       "      <th></th>\n",
       "      <th>Unnamed: 6</th>\n",
       "      <th>Unnamed: 7</th>\n",
       "      <th>Unnamed: 8</th>\n",
       "      <th>Unnamed: 9</th>\n",
       "      <th>Unnamed: 10</th>\n",
       "      <th>Unnamed: 11</th>\n",
       "      <th>Unnamed: 12</th>\n",
       "      <th>Unnamed: 13</th>\n",
       "      <th>Unnamed: 14</th>\n",
       "      <th>Unnamed: 15</th>\n",
       "      <th>Unnamed: 16</th>\n",
       "      <th>Unnamed: 17</th>\n",
       "      <th>Unnamed: 18</th>\n",
       "      <th>Unnamed: 19</th>\n",
       "      <th>Unnamed: 20</th>\n",
       "      <th>Unnamed: 21</th>\n",
       "      <th>Unnamed: 22</th>\n",
       "      <th>Unnamed: 23</th>\n",
       "      <th>Unnamed: 24</th>\n",
       "      <th>Unnamed: 25</th>\n",
       "      <th>Unnamed: 26</th>\n",
       "      <th>Unnamed: 27</th>\n",
       "      <th>Unnamed: 28</th>\n",
       "      <th>Unnamed: 29</th>\n",
       "    </tr>\n",
       "  </thead>\n",
       "  <tbody>\n",
       "    <tr>\n",
       "      <th>0</th>\n",
       "      <td>NaN</td>\n",
       "      <td>NaN</td>\n",
       "      <td>NaN</td>\n",
       "      <td>NaN</td>\n",
       "      <td>NaN</td>\n",
       "      <td>NaN</td>\n",
       "      <td>NaN</td>\n",
       "      <td>NaN</td>\n",
       "      <td>NaN</td>\n",
       "      <td>NaN</td>\n",
       "      <td>NaN</td>\n",
       "      <td>NaN</td>\n",
       "      <td>NaN</td>\n",
       "      <td>NaN</td>\n",
       "      <td>NaN</td>\n",
       "      <td>NaN</td>\n",
       "      <td>NaN</td>\n",
       "      <td>NaN</td>\n",
       "      <td>NaN</td>\n",
       "      <td>NaN</td>\n",
       "      <td>NaN</td>\n",
       "      <td>NaN</td>\n",
       "      <td>NaN</td>\n",
       "      <td>NaN</td>\n",
       "    </tr>\n",
       "    <tr>\n",
       "      <th>1</th>\n",
       "      <td>NaN</td>\n",
       "      <td>NaN</td>\n",
       "      <td>NaN</td>\n",
       "      <td>NaN</td>\n",
       "      <td>NaN</td>\n",
       "      <td>NaN</td>\n",
       "      <td>NaN</td>\n",
       "      <td>NaN</td>\n",
       "      <td>NaN</td>\n",
       "      <td>NaN</td>\n",
       "      <td>NaN</td>\n",
       "      <td>NaN</td>\n",
       "      <td>NaN</td>\n",
       "      <td>NaN</td>\n",
       "      <td>NaN</td>\n",
       "      <td>NaN</td>\n",
       "      <td>NaN</td>\n",
       "      <td>NaN</td>\n",
       "      <td>NaN</td>\n",
       "      <td>NaN</td>\n",
       "      <td>NaN</td>\n",
       "      <td>NaN</td>\n",
       "      <td>NaN</td>\n",
       "      <td>NaN</td>\n",
       "    </tr>\n",
       "    <tr>\n",
       "      <th>2</th>\n",
       "      <td>NaN</td>\n",
       "      <td>NaN</td>\n",
       "      <td>NaN</td>\n",
       "      <td>NaN</td>\n",
       "      <td>NaN</td>\n",
       "      <td>NaN</td>\n",
       "      <td>NaN</td>\n",
       "      <td>NaN</td>\n",
       "      <td>NaN</td>\n",
       "      <td>NaN</td>\n",
       "      <td>NaN</td>\n",
       "      <td>NaN</td>\n",
       "      <td>NaN</td>\n",
       "      <td>NaN</td>\n",
       "      <td>NaN</td>\n",
       "      <td>NaN</td>\n",
       "      <td>NaN</td>\n",
       "      <td>NaN</td>\n",
       "      <td>NaN</td>\n",
       "      <td>NaN</td>\n",
       "      <td>NaN</td>\n",
       "      <td>NaN</td>\n",
       "      <td>NaN</td>\n",
       "      <td>NaN</td>\n",
       "    </tr>\n",
       "    <tr>\n",
       "      <th>3</th>\n",
       "      <td>NaN</td>\n",
       "      <td>NaN</td>\n",
       "      <td>NaN</td>\n",
       "      <td>NaN</td>\n",
       "      <td>NaN</td>\n",
       "      <td>NaN</td>\n",
       "      <td>NaN</td>\n",
       "      <td>NaN</td>\n",
       "      <td>NaN</td>\n",
       "      <td>NaN</td>\n",
       "      <td>NaN</td>\n",
       "      <td>NaN</td>\n",
       "      <td>NaN</td>\n",
       "      <td>NaN</td>\n",
       "      <td>NaN</td>\n",
       "      <td>NaN</td>\n",
       "      <td>NaN</td>\n",
       "      <td>NaN</td>\n",
       "      <td>NaN</td>\n",
       "      <td>NaN</td>\n",
       "      <td>NaN</td>\n",
       "      <td>NaN</td>\n",
       "      <td>NaN</td>\n",
       "      <td>NaN</td>\n",
       "    </tr>\n",
       "    <tr>\n",
       "      <th>4</th>\n",
       "      <td>NaN</td>\n",
       "      <td>NaN</td>\n",
       "      <td>NaN</td>\n",
       "      <td>NaN</td>\n",
       "      <td>NaN</td>\n",
       "      <td>NaN</td>\n",
       "      <td>NaN</td>\n",
       "      <td>NaN</td>\n",
       "      <td>NaN</td>\n",
       "      <td>NaN</td>\n",
       "      <td>NaN</td>\n",
       "      <td>NaN</td>\n",
       "      <td>NaN</td>\n",
       "      <td>NaN</td>\n",
       "      <td>NaN</td>\n",
       "      <td>NaN</td>\n",
       "      <td>NaN</td>\n",
       "      <td>NaN</td>\n",
       "      <td>NaN</td>\n",
       "      <td>NaN</td>\n",
       "      <td>NaN</td>\n",
       "      <td>NaN</td>\n",
       "      <td>NaN</td>\n",
       "      <td>NaN</td>\n",
       "    </tr>\n",
       "    <tr>\n",
       "      <th>...</th>\n",
       "      <td>...</td>\n",
       "      <td>...</td>\n",
       "      <td>...</td>\n",
       "      <td>...</td>\n",
       "      <td>...</td>\n",
       "      <td>...</td>\n",
       "      <td>...</td>\n",
       "      <td>...</td>\n",
       "      <td>...</td>\n",
       "      <td>...</td>\n",
       "      <td>...</td>\n",
       "      <td>...</td>\n",
       "      <td>...</td>\n",
       "      <td>...</td>\n",
       "      <td>...</td>\n",
       "      <td>...</td>\n",
       "      <td>...</td>\n",
       "      <td>...</td>\n",
       "      <td>...</td>\n",
       "      <td>...</td>\n",
       "      <td>...</td>\n",
       "      <td>...</td>\n",
       "      <td>...</td>\n",
       "      <td>...</td>\n",
       "    </tr>\n",
       "    <tr>\n",
       "      <th>9995</th>\n",
       "      <td>NaN</td>\n",
       "      <td>NaN</td>\n",
       "      <td>NaN</td>\n",
       "      <td>NaN</td>\n",
       "      <td>NaN</td>\n",
       "      <td>NaN</td>\n",
       "      <td>NaN</td>\n",
       "      <td>NaN</td>\n",
       "      <td>NaN</td>\n",
       "      <td>NaN</td>\n",
       "      <td>NaN</td>\n",
       "      <td>NaN</td>\n",
       "      <td>NaN</td>\n",
       "      <td>NaN</td>\n",
       "      <td>NaN</td>\n",
       "      <td>NaN</td>\n",
       "      <td>NaN</td>\n",
       "      <td>NaN</td>\n",
       "      <td>NaN</td>\n",
       "      <td>NaN</td>\n",
       "      <td>NaN</td>\n",
       "      <td>NaN</td>\n",
       "      <td>NaN</td>\n",
       "      <td>NaN</td>\n",
       "    </tr>\n",
       "    <tr>\n",
       "      <th>9996</th>\n",
       "      <td>NaN</td>\n",
       "      <td>NaN</td>\n",
       "      <td>NaN</td>\n",
       "      <td>NaN</td>\n",
       "      <td>NaN</td>\n",
       "      <td>NaN</td>\n",
       "      <td>NaN</td>\n",
       "      <td>NaN</td>\n",
       "      <td>NaN</td>\n",
       "      <td>NaN</td>\n",
       "      <td>NaN</td>\n",
       "      <td>NaN</td>\n",
       "      <td>NaN</td>\n",
       "      <td>NaN</td>\n",
       "      <td>NaN</td>\n",
       "      <td>NaN</td>\n",
       "      <td>NaN</td>\n",
       "      <td>NaN</td>\n",
       "      <td>NaN</td>\n",
       "      <td>NaN</td>\n",
       "      <td>NaN</td>\n",
       "      <td>NaN</td>\n",
       "      <td>NaN</td>\n",
       "      <td>NaN</td>\n",
       "    </tr>\n",
       "    <tr>\n",
       "      <th>9997</th>\n",
       "      <td>NaN</td>\n",
       "      <td>NaN</td>\n",
       "      <td>NaN</td>\n",
       "      <td>NaN</td>\n",
       "      <td>NaN</td>\n",
       "      <td>NaN</td>\n",
       "      <td>NaN</td>\n",
       "      <td>NaN</td>\n",
       "      <td>NaN</td>\n",
       "      <td>NaN</td>\n",
       "      <td>NaN</td>\n",
       "      <td>NaN</td>\n",
       "      <td>NaN</td>\n",
       "      <td>NaN</td>\n",
       "      <td>NaN</td>\n",
       "      <td>NaN</td>\n",
       "      <td>NaN</td>\n",
       "      <td>NaN</td>\n",
       "      <td>NaN</td>\n",
       "      <td>NaN</td>\n",
       "      <td>NaN</td>\n",
       "      <td>NaN</td>\n",
       "      <td>NaN</td>\n",
       "      <td>NaN</td>\n",
       "    </tr>\n",
       "    <tr>\n",
       "      <th>9998</th>\n",
       "      <td>NaN</td>\n",
       "      <td>NaN</td>\n",
       "      <td>NaN</td>\n",
       "      <td>NaN</td>\n",
       "      <td>NaN</td>\n",
       "      <td>NaN</td>\n",
       "      <td>NaN</td>\n",
       "      <td>NaN</td>\n",
       "      <td>NaN</td>\n",
       "      <td>NaN</td>\n",
       "      <td>NaN</td>\n",
       "      <td>NaN</td>\n",
       "      <td>NaN</td>\n",
       "      <td>NaN</td>\n",
       "      <td>NaN</td>\n",
       "      <td>NaN</td>\n",
       "      <td>NaN</td>\n",
       "      <td>NaN</td>\n",
       "      <td>NaN</td>\n",
       "      <td>NaN</td>\n",
       "      <td>NaN</td>\n",
       "      <td>NaN</td>\n",
       "      <td>NaN</td>\n",
       "      <td>NaN</td>\n",
       "    </tr>\n",
       "    <tr>\n",
       "      <th>9999</th>\n",
       "      <td>NaN</td>\n",
       "      <td>NaN</td>\n",
       "      <td>NaN</td>\n",
       "      <td>NaN</td>\n",
       "      <td>NaN</td>\n",
       "      <td>NaN</td>\n",
       "      <td>NaN</td>\n",
       "      <td>NaN</td>\n",
       "      <td>NaN</td>\n",
       "      <td>NaN</td>\n",
       "      <td>NaN</td>\n",
       "      <td>NaN</td>\n",
       "      <td>NaN</td>\n",
       "      <td>NaN</td>\n",
       "      <td>NaN</td>\n",
       "      <td>NaN</td>\n",
       "      <td>NaN</td>\n",
       "      <td>NaN</td>\n",
       "      <td>NaN</td>\n",
       "      <td>NaN</td>\n",
       "      <td>NaN</td>\n",
       "      <td>NaN</td>\n",
       "      <td>NaN</td>\n",
       "      <td>NaN</td>\n",
       "    </tr>\n",
       "  </tbody>\n",
       "</table>\n",
       "<p>10000 rows × 24 columns</p>\n",
       "</div>"
      ],
      "text/plain": [
       "     Unnamed: 6 Unnamed: 7 Unnamed: 8  ... Unnamed: 27 Unnamed: 28 Unnamed: 29\n",
       "0           NaN        NaN        NaN  ...         NaN         NaN         NaN\n",
       "1           NaN        NaN        NaN  ...         NaN         NaN         NaN\n",
       "2           NaN        NaN        NaN  ...         NaN         NaN         NaN\n",
       "3           NaN        NaN        NaN  ...         NaN         NaN         NaN\n",
       "4           NaN        NaN        NaN  ...         NaN         NaN         NaN\n",
       "...         ...        ...        ...  ...         ...         ...         ...\n",
       "9995        NaN        NaN        NaN  ...         NaN         NaN         NaN\n",
       "9996        NaN        NaN        NaN  ...         NaN         NaN         NaN\n",
       "9997        NaN        NaN        NaN  ...         NaN         NaN         NaN\n",
       "9998        NaN        NaN        NaN  ...         NaN         NaN         NaN\n",
       "9999        NaN        NaN        NaN  ...         NaN         NaN         NaN\n",
       "\n",
       "[10000 rows x 24 columns]"
      ]
     },
     "execution_count": 14,
     "metadata": {
      "tags": []
     },
     "output_type": "execute_result"
    }
   ],
   "source": [
    "df.iloc[:,5:]"
   ]
  },
  {
   "cell_type": "code",
   "execution_count": 0,
   "metadata": {
    "colab": {},
    "colab_type": "code",
    "id": "24-d7Z0G4aht"
   },
   "outputs": [],
   "source": [
    "df.drop(df.iloc[:,5:],axis=1,inplace=True)"
   ]
  },
  {
   "cell_type": "code",
   "execution_count": 16,
   "metadata": {
    "colab": {
     "base_uri": "https://localhost:8080/",
     "height": 195
    },
    "colab_type": "code",
    "id": "J9fU3hE24ahv",
    "outputId": "602a3af0-a205-4614-e773-e4a2772af607"
   },
   "outputs": [
    {
     "data": {
      "text/html": [
       "<div>\n",
       "<style scoped>\n",
       "    .dataframe tbody tr th:only-of-type {\n",
       "        vertical-align: middle;\n",
       "    }\n",
       "\n",
       "    .dataframe tbody tr th {\n",
       "        vertical-align: top;\n",
       "    }\n",
       "\n",
       "    .dataframe thead th {\n",
       "        text-align: right;\n",
       "    }\n",
       "</style>\n",
       "<table border=\"1\" class=\"dataframe\">\n",
       "  <thead>\n",
       "    <tr style=\"text-align: right;\">\n",
       "      <th></th>\n",
       "      <th>brand</th>\n",
       "      <th>categories</th>\n",
       "      <th>ingredients</th>\n",
       "      <th>manufacturer</th>\n",
       "      <th>title</th>\n",
       "    </tr>\n",
       "  </thead>\n",
       "  <tbody>\n",
       "    <tr>\n",
       "      <th>0</th>\n",
       "      <td>Simon Fischer</td>\n",
       "      <td>Grocery &amp; Gourmet Food,Food,Grocery</td>\n",
       "      <td>Dried Prunes,Water,Corn Syrup,Sugar,Pectin.</td>\n",
       "      <td>Sokol And Company</td>\n",
       "      <td>Simon Fischer Fruit Bttr Prune Lekvar</td>\n",
       "    </tr>\n",
       "    <tr>\n",
       "      <th>1</th>\n",
       "      <td>McCormick</td>\n",
       "      <td>Grocery &amp; Gourmet Food,Food,Grocery</td>\n",
       "      <td>Salt,Sugar,Molasses (Refinery Syrup, Molasses,...</td>\n",
       "      <td>McCormick &amp; Co, Inc</td>\n",
       "      <td>McCORMICK GRILL MATES MOLASSES BACON SEASONING...</td>\n",
       "    </tr>\n",
       "    <tr>\n",
       "      <th>2</th>\n",
       "      <td>Jolly Time</td>\n",
       "      <td>Grocery &amp; Gourmet Food,Grocery</td>\n",
       "      <td>Salt, Yellow 5 Lake, Tricalcium Phosphate And ...</td>\n",
       "      <td>Reese's</td>\n",
       "      <td>Jolly Time Popcorn</td>\n",
       "    </tr>\n",
       "    <tr>\n",
       "      <th>3</th>\n",
       "      <td>Ziyad</td>\n",
       "      <td>Grocery &amp; Gourmet Food,grocery</td>\n",
       "      <td>Mechanically hulled seasame seeds.Allergy Info...</td>\n",
       "      <td>Ziyad</td>\n",
       "      <td>Ziyad Tahini Sesame Sauce</td>\n",
       "    </tr>\n",
       "    <tr>\n",
       "      <th>4</th>\n",
       "      <td>Fla-Vor-Ice</td>\n",
       "      <td>Grocery &amp; Gourmet Food,grocery</td>\n",
       "      <td>FALSE</td>\n",
       "      <td>Fla-Vor-Ice</td>\n",
       "      <td>Fla-Vor-Ice Plus Giant Pops</td>\n",
       "    </tr>\n",
       "  </tbody>\n",
       "</table>\n",
       "</div>"
      ],
      "text/plain": [
       "           brand  ...                                              title\n",
       "0  Simon Fischer  ...              Simon Fischer Fruit Bttr Prune Lekvar\n",
       "1      McCormick  ...  McCORMICK GRILL MATES MOLASSES BACON SEASONING...\n",
       "2     Jolly Time  ...                                 Jolly Time Popcorn\n",
       "3          Ziyad  ...                          Ziyad Tahini Sesame Sauce\n",
       "4    Fla-Vor-Ice  ...                        Fla-Vor-Ice Plus Giant Pops\n",
       "\n",
       "[5 rows x 5 columns]"
      ]
     },
     "execution_count": 16,
     "metadata": {
      "tags": []
     },
     "output_type": "execute_result"
    }
   ],
   "source": [
    "df.head()"
   ]
  },
  {
   "cell_type": "markdown",
   "metadata": {
    "colab_type": "text",
    "id": "LdCNXTyK4ahx"
   },
   "source": [
    "or you could simply have done:\n",
    "\n",
    "df = df [ ['brand','categories','ingredients','manufacturer','title'] ]\n",
    "\n",
    "this will automatically drop other columns"
   ]
  },
  {
   "cell_type": "code",
   "execution_count": 17,
   "metadata": {
    "colab": {
     "base_uri": "https://localhost:8080/",
     "height": 218
    },
    "colab_type": "code",
    "id": "CymBD9F64ahy",
    "outputId": "557b17d9-99ca-42d1-c931-aa6eab3322f0"
   },
   "outputs": [
    {
     "name": "stdout",
     "output_type": "stream",
     "text": [
      "<class 'pandas.core.frame.DataFrame'>\n",
      "RangeIndex: 10000 entries, 0 to 9999\n",
      "Data columns (total 5 columns):\n",
      " #   Column        Non-Null Count  Dtype \n",
      "---  ------        --------------  ----- \n",
      " 0   brand         9114 non-null   object\n",
      " 1   categories    10000 non-null  object\n",
      " 2   ingredients   9972 non-null   object\n",
      " 3   manufacturer  7317 non-null   object\n",
      " 4   title         9996 non-null   object\n",
      "dtypes: object(5)\n",
      "memory usage: 390.8+ KB\n"
     ]
    }
   ],
   "source": [
    "df.info()"
   ]
  },
  {
   "cell_type": "code",
   "execution_count": 18,
   "metadata": {
    "colab": {
     "base_uri": "https://localhost:8080/",
     "height": 195
    },
    "colab_type": "code",
    "id": "0QFObCBC4ah0",
    "outputId": "df03e641-af77-411c-8a93-81a9c75ebb4d"
   },
   "outputs": [
    {
     "data": {
      "text/html": [
       "<div>\n",
       "<style scoped>\n",
       "    .dataframe tbody tr th:only-of-type {\n",
       "        vertical-align: middle;\n",
       "    }\n",
       "\n",
       "    .dataframe tbody tr th {\n",
       "        vertical-align: top;\n",
       "    }\n",
       "\n",
       "    .dataframe thead th {\n",
       "        text-align: right;\n",
       "    }\n",
       "</style>\n",
       "<table border=\"1\" class=\"dataframe\">\n",
       "  <thead>\n",
       "    <tr style=\"text-align: right;\">\n",
       "      <th></th>\n",
       "      <th>count</th>\n",
       "      <th>unique</th>\n",
       "      <th>top</th>\n",
       "      <th>freq</th>\n",
       "    </tr>\n",
       "  </thead>\n",
       "  <tbody>\n",
       "    <tr>\n",
       "      <th>brand</th>\n",
       "      <td>9114</td>\n",
       "      <td>3143</td>\n",
       "      <td>Goya Food</td>\n",
       "      <td>77</td>\n",
       "    </tr>\n",
       "    <tr>\n",
       "      <th>categories</th>\n",
       "      <td>10000</td>\n",
       "      <td>4285</td>\n",
       "      <td>Grocery</td>\n",
       "      <td>702</td>\n",
       "    </tr>\n",
       "    <tr>\n",
       "      <th>ingredients</th>\n",
       "      <td>9972</td>\n",
       "      <td>9290</td>\n",
       "      <td>100% Pure Coffee.</td>\n",
       "      <td>19</td>\n",
       "    </tr>\n",
       "    <tr>\n",
       "      <th>manufacturer</th>\n",
       "      <td>7317</td>\n",
       "      <td>2969</td>\n",
       "      <td>Dr Pepper/Seven Up, Inc</td>\n",
       "      <td>106</td>\n",
       "    </tr>\n",
       "    <tr>\n",
       "      <th>title</th>\n",
       "      <td>9996</td>\n",
       "      <td>9911</td>\n",
       "      <td>Yost Gourmet Pops</td>\n",
       "      <td>7</td>\n",
       "    </tr>\n",
       "  </tbody>\n",
       "</table>\n",
       "</div>"
      ],
      "text/plain": [
       "              count unique                      top freq\n",
       "brand          9114   3143                Goya Food   77\n",
       "categories    10000   4285                  Grocery  702\n",
       "ingredients    9972   9290        100% Pure Coffee.   19\n",
       "manufacturer   7317   2969  Dr Pepper/Seven Up, Inc  106\n",
       "title          9996   9911        Yost Gourmet Pops    7"
      ]
     },
     "execution_count": 18,
     "metadata": {
      "tags": []
     },
     "output_type": "execute_result"
    }
   ],
   "source": [
    "df.describe().transpose()"
   ]
  },
  {
   "cell_type": "code",
   "execution_count": 19,
   "metadata": {
    "colab": {
     "base_uri": "https://localhost:8080/",
     "height": 34
    },
    "colab_type": "code",
    "id": "M6KoG9IZ4ah3",
    "outputId": "8714b3fe-4ff5-430a-e980-205fe196c218"
   },
   "outputs": [
    {
     "data": {
      "text/plain": [
       "13"
      ]
     },
     "execution_count": 19,
     "metadata": {
      "tags": []
     },
     "output_type": "execute_result"
    }
   ],
   "source": [
    "sum(df.duplicated())"
   ]
  },
  {
   "cell_type": "code",
   "execution_count": 0,
   "metadata": {
    "colab": {},
    "colab_type": "code",
    "id": "EkERDa324ah5"
   },
   "outputs": [],
   "source": [
    "#data cleaning\n",
    "#removing duplicates from df\n",
    "df.drop_duplicates(inplace=True)"
   ]
  },
  {
   "cell_type": "code",
   "execution_count": 21,
   "metadata": {
    "colab": {
     "base_uri": "https://localhost:8080/",
     "height": 34
    },
    "colab_type": "code",
    "id": "WiCe24Ev4ah9",
    "outputId": "fa17f4e7-1148-468f-c5bc-1e78a43a457c"
   },
   "outputs": [
    {
     "data": {
      "text/plain": [
       "0"
      ]
     },
     "execution_count": 21,
     "metadata": {
      "tags": []
     },
     "output_type": "execute_result"
    }
   ],
   "source": [
    "sum(df.duplicated())"
   ]
  },
  {
   "cell_type": "code",
   "execution_count": 22,
   "metadata": {
    "colab": {
     "base_uri": "https://localhost:8080/",
     "height": 118
    },
    "colab_type": "code",
    "id": "YXwzfWyA4ah_",
    "outputId": "7c18c53a-751d-48a6-9489-1f35a703cc34"
   },
   "outputs": [
    {
     "data": {
      "text/plain": [
       "brand            883\n",
       "categories         0\n",
       "ingredients       28\n",
       "manufacturer    2673\n",
       "title              4\n",
       "dtype: int64"
      ]
     },
     "execution_count": 22,
     "metadata": {
      "tags": []
     },
     "output_type": "execute_result"
    }
   ],
   "source": [
    "df.isnull().sum()"
   ]
  },
  {
   "cell_type": "code",
   "execution_count": 0,
   "metadata": {
    "colab": {},
    "colab_type": "code",
    "id": "VhdLj1jy4aiB"
   },
   "outputs": [],
   "source": [
    "#filling null places with ''\n",
    "df=df.fillna(value='')"
   ]
  },
  {
   "cell_type": "code",
   "execution_count": 24,
   "metadata": {
    "colab": {
     "base_uri": "https://localhost:8080/",
     "height": 118
    },
    "colab_type": "code",
    "id": "CglQZaWf4aiD",
    "outputId": "316f3828-78ee-4ba6-d5e4-c67f3f7708e5"
   },
   "outputs": [
    {
     "data": {
      "text/plain": [
       "brand           0\n",
       "categories      0\n",
       "ingredients     0\n",
       "manufacturer    0\n",
       "title           0\n",
       "dtype: int64"
      ]
     },
     "execution_count": 24,
     "metadata": {
      "tags": []
     },
     "output_type": "execute_result"
    }
   ],
   "source": [
    "df.isnull().sum()"
   ]
  },
  {
   "cell_type": "markdown",
   "metadata": {
    "colab_type": "text",
    "id": "NW8eTJ-x4aiG"
   },
   "source": [
    "We want to predict 'title' of food item. So from the dataframe, we can see that it depends basically on two features: 'brand' and 'ingredients'.So, we will combine these two columns into 1 column."
   ]
  },
  {
   "cell_type": "code",
   "execution_count": 0,
   "metadata": {
    "colab": {},
    "colab_type": "code",
    "id": "6p-2d-Q94aiG"
   },
   "outputs": [],
   "source": [
    "df['prepared_data'] = df['brand'] + \" \" + df['ingredients']"
   ]
  },
  {
   "cell_type": "code",
   "execution_count": 26,
   "metadata": {
    "colab": {
     "base_uri": "https://localhost:8080/",
     "height": 262
    },
    "colab_type": "code",
    "id": "XF5cZ6Np4aiI",
    "outputId": "90b7b1e4-131b-47c3-8476-871203110d57"
   },
   "outputs": [
    {
     "data": {
      "text/html": [
       "<div>\n",
       "<style scoped>\n",
       "    .dataframe tbody tr th:only-of-type {\n",
       "        vertical-align: middle;\n",
       "    }\n",
       "\n",
       "    .dataframe tbody tr th {\n",
       "        vertical-align: top;\n",
       "    }\n",
       "\n",
       "    .dataframe thead th {\n",
       "        text-align: right;\n",
       "    }\n",
       "</style>\n",
       "<table border=\"1\" class=\"dataframe\">\n",
       "  <thead>\n",
       "    <tr style=\"text-align: right;\">\n",
       "      <th></th>\n",
       "      <th>brand</th>\n",
       "      <th>categories</th>\n",
       "      <th>ingredients</th>\n",
       "      <th>manufacturer</th>\n",
       "      <th>title</th>\n",
       "      <th>prepared_data</th>\n",
       "    </tr>\n",
       "  </thead>\n",
       "  <tbody>\n",
       "    <tr>\n",
       "      <th>0</th>\n",
       "      <td>Simon Fischer</td>\n",
       "      <td>Grocery &amp; Gourmet Food,Food,Grocery</td>\n",
       "      <td>Dried Prunes,Water,Corn Syrup,Sugar,Pectin.</td>\n",
       "      <td>Sokol And Company</td>\n",
       "      <td>Simon Fischer Fruit Bttr Prune Lekvar</td>\n",
       "      <td>Simon Fischer Dried Prunes,Water,Corn Syrup,Su...</td>\n",
       "    </tr>\n",
       "    <tr>\n",
       "      <th>1</th>\n",
       "      <td>McCormick</td>\n",
       "      <td>Grocery &amp; Gourmet Food,Food,Grocery</td>\n",
       "      <td>Salt,Sugar,Molasses (Refinery Syrup, Molasses,...</td>\n",
       "      <td>McCormick &amp; Co, Inc</td>\n",
       "      <td>McCORMICK GRILL MATES MOLASSES BACON SEASONING...</td>\n",
       "      <td>McCormick Salt,Sugar,Molasses (Refinery Syrup,...</td>\n",
       "    </tr>\n",
       "    <tr>\n",
       "      <th>2</th>\n",
       "      <td>Jolly Time</td>\n",
       "      <td>Grocery &amp; Gourmet Food,Grocery</td>\n",
       "      <td>Salt, Yellow 5 Lake, Tricalcium Phosphate And ...</td>\n",
       "      <td>Reese's</td>\n",
       "      <td>Jolly Time Popcorn</td>\n",
       "      <td>Jolly Time Salt, Yellow 5 Lake, Tricalcium Pho...</td>\n",
       "    </tr>\n",
       "    <tr>\n",
       "      <th>3</th>\n",
       "      <td>Ziyad</td>\n",
       "      <td>Grocery &amp; Gourmet Food,grocery</td>\n",
       "      <td>Mechanically hulled seasame seeds.Allergy Info...</td>\n",
       "      <td>Ziyad</td>\n",
       "      <td>Ziyad Tahini Sesame Sauce</td>\n",
       "      <td>Ziyad Mechanically hulled seasame seeds.Allerg...</td>\n",
       "    </tr>\n",
       "    <tr>\n",
       "      <th>4</th>\n",
       "      <td>Fla-Vor-Ice</td>\n",
       "      <td>Grocery &amp; Gourmet Food,grocery</td>\n",
       "      <td>FALSE</td>\n",
       "      <td>Fla-Vor-Ice</td>\n",
       "      <td>Fla-Vor-Ice Plus Giant Pops</td>\n",
       "      <td>Fla-Vor-Ice FALSE</td>\n",
       "    </tr>\n",
       "  </tbody>\n",
       "</table>\n",
       "</div>"
      ],
      "text/plain": [
       "           brand  ...                                      prepared_data\n",
       "0  Simon Fischer  ...  Simon Fischer Dried Prunes,Water,Corn Syrup,Su...\n",
       "1      McCormick  ...  McCormick Salt,Sugar,Molasses (Refinery Syrup,...\n",
       "2     Jolly Time  ...  Jolly Time Salt, Yellow 5 Lake, Tricalcium Pho...\n",
       "3          Ziyad  ...  Ziyad Mechanically hulled seasame seeds.Allerg...\n",
       "4    Fla-Vor-Ice  ...                                  Fla-Vor-Ice FALSE\n",
       "\n",
       "[5 rows x 6 columns]"
      ]
     },
     "execution_count": 26,
     "metadata": {
      "tags": []
     },
     "output_type": "execute_result"
    }
   ],
   "source": [
    "df.head()"
   ]
  },
  {
   "cell_type": "markdown",
   "metadata": {
    "colab_type": "text",
    "id": "z9PhbV-M4aiJ"
   },
   "source": [
    "**Vectorization**"
   ]
  },
  {
   "cell_type": "code",
   "execution_count": 0,
   "metadata": {
    "colab": {},
    "colab_type": "code",
    "id": "HI6Cp9BN4aiK"
   },
   "outputs": [],
   "source": [
    "from sklearn.feature_extraction.text import CountVectorizer\n",
    "#converts a collection of text documents to a matrix of token counts"
   ]
  },
  {
   "cell_type": "code",
   "execution_count": 0,
   "metadata": {
    "colab": {},
    "colab_type": "code",
    "id": "NFqJJECg4aiM"
   },
   "outputs": [],
   "source": [
    "#bow - bag-of-words model\n",
    "bow_transformer = CountVectorizer() \n",
    "vector_matrix = bow_transformer.fit_transform(df['prepared_data'])"
   ]
  },
  {
   "cell_type": "code",
   "execution_count": 29,
   "metadata": {
    "colab": {
     "base_uri": "https://localhost:8080/",
     "height": 34
    },
    "colab_type": "code",
    "id": "PRNY6vW94aiN",
    "outputId": "e700c86e-d547-4875-f497-0d1faf071cc2"
   },
   "outputs": [
    {
     "data": {
      "text/plain": [
       "(9987, 10217)"
      ]
     },
     "execution_count": 29,
     "metadata": {
      "tags": []
     },
     "output_type": "execute_result"
    }
   ],
   "source": [
    "vector_matrix.shape   #to get the shape of sparse matrix"
   ]
  },
  {
   "cell_type": "markdown",
   "metadata": {
    "colab_type": "text",
    "id": "HyaorUlH4aiP"
   },
   "source": [
    "**Cosine Similarity**"
   ]
  },
  {
   "cell_type": "code",
   "execution_count": 0,
   "metadata": {
    "colab": {},
    "colab_type": "code",
    "id": "YoH28e-94aiP"
   },
   "outputs": [],
   "source": [
    "from sklearn.metrics.pairwise import cosine_similarity"
   ]
  },
  {
   "cell_type": "code",
   "execution_count": 0,
   "metadata": {
    "colab": {},
    "colab_type": "code",
    "id": "E-y2ZWEy4aiR"
   },
   "outputs": [],
   "source": [
    "cos_similar = cosine_similarity(vector_matrix) "
   ]
  },
  {
   "cell_type": "markdown",
   "metadata": {
    "colab_type": "text",
    "id": "-GMAwz9m4aiU"
   },
   "source": [
    "**Input**"
   ]
  },
  {
   "cell_type": "code",
   "execution_count": 32,
   "metadata": {
    "colab": {
     "base_uri": "https://localhost:8080/",
     "height": 34
    },
    "colab_type": "code",
    "id": "VHYKn1IQ4aiU",
    "outputId": "688929d8-e53e-42c9-86c4-e4ce3c642c73"
   },
   "outputs": [
    {
     "name": "stdout",
     "output_type": "stream",
     "text": [
      "Enter the title of the food : Fla-Vor-Ice Plus Giant Pops\n"
     ]
    }
   ],
   "source": [
    "food_item = input('Enter the title of the food : ')"
   ]
  },
  {
   "cell_type": "code",
   "execution_count": 0,
   "metadata": {
    "colab": {},
    "colab_type": "code",
    "id": "OS2cncm34aiX"
   },
   "outputs": [],
   "source": [
    "def search_index(title):\n",
    "    return df[df['title'] == title].index"
   ]
  },
  {
   "cell_type": "code",
   "execution_count": 0,
   "metadata": {
    "colab": {},
    "colab_type": "code",
    "id": "oFYGAwR24aiY"
   },
   "outputs": [],
   "source": [
    "index_item=search_index(food_item)"
   ]
  },
  {
   "cell_type": "code",
   "execution_count": 35,
   "metadata": {
    "colab": {
     "base_uri": "https://localhost:8080/",
     "height": 34
    },
    "colab_type": "code",
    "id": "nYFqHUt64aia",
    "outputId": "fc0dff4d-2d92-46a9-e7ef-0ee121882581"
   },
   "outputs": [
    {
     "data": {
      "text/plain": [
       "Int64Index([4], dtype='int64')"
      ]
     },
     "execution_count": 35,
     "metadata": {
      "tags": []
     },
     "output_type": "execute_result"
    }
   ],
   "source": [
    "index_item"
   ]
  },
  {
   "cell_type": "code",
   "execution_count": 0,
   "metadata": {
    "colab": {},
    "colab_type": "code",
    "id": "rwhpsG_G4aid"
   },
   "outputs": [],
   "source": [
    "#making a list of similar items to the item entered by the user\n",
    "similar_items = list(enumerate(cos_similar[int(index_item[0])]))"
   ]
  },
  {
   "cell_type": "code",
   "execution_count": 39,
   "metadata": {
    "colab": {
     "base_uri": "https://localhost:8080/",
     "height": 185
    },
    "colab_type": "code",
    "id": "v-WR9G8C4aig",
    "outputId": "cc056ac2-4eb4-4c82-da8b-033705d9244c"
   },
   "outputs": [
    {
     "data": {
      "text/plain": [
       "[(0, 0.0),\n",
       " (1, 0.0),\n",
       " (2, 0.0),\n",
       " (3, 0.0),\n",
       " (4, 1.0),\n",
       " (5, 0.0),\n",
       " (6, 0.0),\n",
       " (7, 0.0),\n",
       " (8, 0.0),\n",
       " (9, 0.0)]"
      ]
     },
     "execution_count": 39,
     "metadata": {
      "tags": []
     },
     "output_type": "execute_result"
    }
   ],
   "source": [
    "similar_items[:10]      #to display first 10 elements of the list"
   ]
  },
  {
   "cell_type": "code",
   "execution_count": 0,
   "metadata": {
    "colab": {},
    "colab_type": "code",
    "id": "njSolMNv4aii"
   },
   "outputs": [],
   "source": [
    "#sorting in descending order\n",
    "sorted_similar_items=sorted(similar_items,key=lambda x:x[1],reverse=True)"
   ]
  },
  {
   "cell_type": "code",
   "execution_count": 41,
   "metadata": {
    "colab": {
     "base_uri": "https://localhost:8080/",
     "height": 185
    },
    "colab_type": "code",
    "id": "aMaVl14_4aik",
    "outputId": "52be951f-b812-4046-f519-88b42a4f50f4"
   },
   "outputs": [
    {
     "data": {
      "text/plain": [
       "[(4, 1.0),\n",
       " (898, 0.09325048082403138),\n",
       " (4101, 0.08703882797784893),\n",
       " (4243, 0.08703882797784893),\n",
       " (1493, 0.08451542547285165),\n",
       " (4733, 0.08111071056538127),\n",
       " (4047, 0.07980868844676221),\n",
       " (2006, 0.07905694150420949),\n",
       " (8950, 0.07293249574894728),\n",
       " (2904, 0.07071067811865475)]"
      ]
     },
     "execution_count": 41,
     "metadata": {
      "tags": []
     },
     "output_type": "execute_result"
    }
   ],
   "source": [
    "sorted_similar_items[:10]     #to display first 10 elements of the sorted list"
   ]
  },
  {
   "cell_type": "markdown",
   "metadata": {
    "colab_type": "text",
    "id": "jN7qzgvD4aim"
   },
   "source": [
    "**Output**"
   ]
  },
  {
   "cell_type": "code",
   "execution_count": 0,
   "metadata": {
    "colab": {},
    "colab_type": "code",
    "id": "27SWA2EJ4aim"
   },
   "outputs": [],
   "source": [
    "def search_title(index):\n",
    "    return df['title'][index]"
   ]
  },
  {
   "cell_type": "code",
   "execution_count": 43,
   "metadata": {
    "colab": {
     "base_uri": "https://localhost:8080/",
     "height": 874
    },
    "colab_type": "code",
    "id": "p_2DL0_L4aio",
    "outputId": "2a984e20-c8a4-44b9-8392-b294222ad7b2"
   },
   "outputs": [
    {
     "name": "stdout",
     "output_type": "stream",
     "text": [
      "Fla-Vor-Ice Plus Giant Pops\n",
      "Hurricane Hi Gravity Malt Liquor, 24 Fl. Oz. Can\n",
      "Perry's Ice Cream Vanilla, 1.5 QT\n",
      "Perry's Ice Cream Maple Walnut, 1.5 QT\n",
      "Ice Breakers Coolmint Sugar Free Mints, 1.5 oz, ()\n",
      "Tropical Punch Premium Syrup\n",
      "Outshine D/e Fruit Bat 12ct Cocont Pineapple Orng\n",
      "Sparkling Ice174 Black Raspberry - 17 Fl Oz\n",
      "Cofresh Spicy Chick Peas 325g\n",
      "Natural Light174 Beer - 12pk / 12oz Bottles\n",
      "Mixed Nuts, Unsalted, 11.5 oz (326 g)\n",
      "Ice Breakers Duo Mints Grape - 1.3oz\n",
      "Ice BreakersÂ® Ice CubesÂ® Raspberry Sorbet Sugar Free Gum 10 ct Box\n",
      "Sparkling Ice Peach Lemonade 17oz\n",
      "Sparkling Ice Mango Lemonade 17oz\n",
      "Perry's Ice Cream Neapolitan, 1.5 QT\n",
      "Klondike Krunch Bar 4 oz Slim-A-Bear Nsa Bars, 6 ct\n",
      "Sparkling Ice Cherry Limeade 17oz\n",
      "Ice Breakers Ice Cubes Spearmint Sugar-free Gum - 40pc\n",
      "Mott's for Tots Fruit Punch\n",
      "Lotte Koala Mini Cookie, Matcha Chocolate, Family Size, 10 Ct\n",
      "India Chai Tea Spice 2.20 oz\n",
      "SweetGourmet Arcor Strawberry Buds Bon Bon Filled Hard Candy\n",
      "Rishi Tea Organic Herbal Tea Caffeine-Free Turmeric Ginger -- 15 Tea Bags\n",
      "Celestial Seasonings153 Zinger153 Caffeine Free Watermelon Lime 20ct\n",
      "SeaBear Smoked Salmon Trio, 18-Ounce Box\n",
      "Simon Fischer Fruit Bttr Prune Lekvar\n",
      "McCORMICK GRILL MATES MOLASSES BACON SEASONING 1 x 77g JAR AMERICAN IMPORT\n",
      "Jolly Time Popcorn\n",
      "Ziyad Tahini Sesame Sauce\n",
      "Hero Fruit Sprd Blk Currant-12 Oz -pack of 8\n",
      "Simply Asia Noodle Bowl Mandarin Orange -- 8.5 oz\n",
      "Italian Bread Crumbs\n",
      "BACK TO NATURE CEREAL ORANGE CRUNCH GRAN\n",
      "Nutrament Strawberry Complete Nutrition Drink 12 Fl. Oz. Can\n",
      "Kikkoman Original Pearl Organic Soymilk, 32oz\n",
      "Kikkoman Chocolate Pearl Organic Soymilk, 32 Fl Oz\n",
      "Blue Diamond Almondsï¿½ï¿½ Almond Breezeï¿½ï¿½ Chocolate Almondmilk 0.5 Gal. Carton\n",
      "Stella D'oro Roasted Garlic Breadsticks, 7.8 Oz\n",
      "Badia Anise Seed, .5 Oz\n",
      "Tone's Garlic Powder, 2.88 Oz\n",
      "Trolli Sour Brite Eggs, 4.0 Ounce Bags, (pack of 12)\n",
      "Cornnuts Ranch Bag\n",
      "Planters Pistachio Lovers Mix 18.5 Oz. Canister\n",
      "Bob Evansï¿½ï¿½ Tasteful Sidesï¿½ï¿½ï¿½ Macaroni & Cheese 28 Oz. Tray\n",
      "Ground Cumin\n",
      "Nature's Path Organic Love Crunch Premium Organic Granola Aloha Blend, 11.5 Oz\n",
      "Spice Islands: Powder Garlic, 2.25 Oz\n",
      "Kernel Season's - All Natural Popcorn Seasoning Caramel - 3 Oz.\n",
      "Iberia Minced Garlic In Water, 1 Qt\n",
      "Goya Chicken Bouillon, 2.82 Oz\n"
     ]
    }
   ],
   "source": [
    "i=0\n",
    "for item in sorted_similar_items:\n",
    "    print(search_title(item[0]))\n",
    "    i=i+1\n",
    "    if(i>50):     #printing top 50 similar food items\n",
    "        break"
   ]
  },
  {
   "cell_type": "markdown",
   "metadata": {
    "colab_type": "text",
    "id": "hb2ngxf76Zg3"
   },
   "source": [
    "So, we have successfully built a food recommendation engine."
   ]
  }
 ],
 "metadata": {
  "accelerator": "GPU",
  "colab": {
   "include_colab_link": true,
   "name": "food_recommendation.ipynb",
   "provenance": []
  },
  "kernelspec": {
   "display_name": "Python 3",
   "language": "python",
   "name": "python3"
  },
  "language_info": {
   "codemirror_mode": {
    "name": "ipython",
    "version": 3
   },
   "file_extension": ".py",
   "mimetype": "text/x-python",
   "name": "python",
   "nbconvert_exporter": "python",
   "pygments_lexer": "ipython3",
   "version": "3.8.3"
  }
 },
 "nbformat": 4,
 "nbformat_minor": 1
}
